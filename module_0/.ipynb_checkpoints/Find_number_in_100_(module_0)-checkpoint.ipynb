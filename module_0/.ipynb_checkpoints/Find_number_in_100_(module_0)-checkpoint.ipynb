{
 "cells": [
  {
   "cell_type": "code",
   "execution_count": null,
   "metadata": {
    "scrolled": true
   },
   "outputs": [],
   "source": [
    "# программа для определения эффективности алгоритма поиска случайного числа\n",
    "# предполагается, что загадано число от 0 до 100\n",
    "import numpy as np\n",
    "def game_core_v2(number):\n",
    "    # функция-игра принимает загаданное число и возвращает число попыток\n",
    "    # используется алгоритм двоичного поиска\n",
    "    left = 0\n",
    "    right = 101\n",
    "    count = 0\n",
    "    while left < right:\n",
    "        count+=1\n",
    "        mid = (left + right) // 2\n",
    "        if mid == number:\n",
    "            break\n",
    "        else:\n",
    "            if number < mid:\n",
    "                right = mid\n",
    "            else:\n",
    "                left = mid\n",
    "    return count\n",
    "def score_game(game_core):\n",
    "    # функция запускает функцию-игру 1000 раз, чтобы узнать, как быстро функция-игра угадывает число\n",
    "    count_ls = []\n",
    "    np.random.seed(1)  # фиксируем RANDOM SEED, чтобы эксперимент был воспроизводим\n",
    "    random_array = np.random.randint(1,101, size=(1000))\n",
    "    for number in random_array:\n",
    "        count_ls.append(game_core(number))\n",
    "    score = int(np.mean(count_ls))\n",
    "    print(f\"Ваш алгоритм угадывает число в среднем за {score} попыток\")\n",
    "    return(score)\n",
    "score_game(game_core_v2)"
   ]
  }
 ],
 "metadata": {
  "kernelspec": {
   "display_name": "Python 3",
   "language": "python",
   "name": "python3"
  },
  "language_info": {
   "codemirror_mode": {
    "name": "ipython",
    "version": 3
   },
   "file_extension": ".py",
   "mimetype": "text/x-python",
   "name": "python",
   "nbconvert_exporter": "python",
   "pygments_lexer": "ipython3",
   "version": "3.8.3"
  }
 },
 "nbformat": 4,
 "nbformat_minor": 4
}
